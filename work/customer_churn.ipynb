{
 "cells": [
  {
   "cell_type": "code",
   "execution_count": 22,
   "id": "09d562b1-6f1f-423f-8729-bb8d0d63212b",
   "metadata": {},
   "outputs": [],
   "source": [
    "from pyspark.sql import SparkSession\n",
    "from pyspark.sql.functions import isnan\n",
    "from pyspark.sql.types import StructType, StructField, IntegerType, StringType, DoubleType\n",
    "from pyspark.ml.feature import OneHotEncoder, StringIndexer, VectorAssembler, StandardScaler\n",
    "from pyspark.ml.classification import LogisticRegression\n",
    "from pyspark.ml import Pipeline\n",
    "from pyspark.ml.evaluation import BinaryClassificationEvaluator, MulticlassClassificationEvaluator"
   ]
  },
  {
   "cell_type": "code",
   "execution_count": 2,
   "id": "283308ec-c1c9-4502-9194-0c105016f482",
   "metadata": {},
   "outputs": [],
   "source": [
    "spark = SparkSession.builder.getOrCreate()"
   ]
  },
  {
   "cell_type": "code",
   "execution_count": 3,
   "id": "b87cf06d-00a3-4df8-a3c7-54683f0bc38a",
   "metadata": {},
   "outputs": [
    {
     "name": "stdout",
     "output_type": "stream",
     "text": [
      "Shape of datasets (7043, 21)\n"
     ]
    }
   ],
   "source": [
    "path = 'WA_Fn-UseC_-Telco-Customer-Churn.csv'\n",
    "schema = [\n",
    "    (\"customerID\", StringType()),\n",
    "    (\"gender\", StringType()),\n",
    "    (\"SeniorCitizen\", StringType()), #\n",
    "    (\"Partner\", StringType()), #\n",
    "    (\"Dependents\", StringType()), #\n",
    "    (\"tenure\", IntegerType()),\n",
    "    (\"PhoneService\", StringType()), #\n",
    "    (\"MultipleLines\", StringType()),\n",
    "    (\"InternetService\", StringType()),\n",
    "    (\"OnlineSecurity\", StringType()),\n",
    "    (\"OnlineBackup\", StringType()),\n",
    "    (\"DeviceProtection\", StringType()),\n",
    "    (\"TechSupport\", StringType()),\n",
    "    (\"StreamingTV\", StringType()),\n",
    "    (\"StreamingMovies\", StringType()),\n",
    "    (\"Contract\", StringType()),\n",
    "    (\"PaperlessBilling\", StringType()), #\n",
    "    (\"PaymentMethod\", StringType()),\n",
    "    (\"MonthlyCharges\", DoubleType()),\n",
    "    (\"TotalCharges\", DoubleType()),\n",
    "    (\"Churn\", StringType()) #\n",
    "]\n",
    "schemaST = StructType([StructField(c, t, True) for c, t in schema])\n",
    "df = spark.read.csv(path, header=True, schema=schemaST)\n",
    "\n",
    "print(f\"Shape of datasets {(df.count(), len(df.columns))}\")\n",
    "# df.head(3)"
   ]
  },
  {
   "cell_type": "code",
   "execution_count": 4,
   "id": "e12c3202-654b-4c9d-acc0-a855e8eede5f",
   "metadata": {},
   "outputs": [
    {
     "name": "stdout",
     "output_type": "stream",
     "text": [
      "root\n",
      " |-- customerID: string (nullable = true)\n",
      " |-- gender: string (nullable = true)\n",
      " |-- SeniorCitizen: string (nullable = true)\n",
      " |-- Partner: string (nullable = true)\n",
      " |-- Dependents: string (nullable = true)\n",
      " |-- tenure: integer (nullable = true)\n",
      " |-- PhoneService: string (nullable = true)\n",
      " |-- MultipleLines: string (nullable = true)\n",
      " |-- InternetService: string (nullable = true)\n",
      " |-- OnlineSecurity: string (nullable = true)\n",
      " |-- OnlineBackup: string (nullable = true)\n",
      " |-- DeviceProtection: string (nullable = true)\n",
      " |-- TechSupport: string (nullable = true)\n",
      " |-- StreamingTV: string (nullable = true)\n",
      " |-- StreamingMovies: string (nullable = true)\n",
      " |-- Contract: string (nullable = true)\n",
      " |-- PaperlessBilling: string (nullable = true)\n",
      " |-- PaymentMethod: string (nullable = true)\n",
      " |-- MonthlyCharges: double (nullable = true)\n",
      " |-- TotalCharges: double (nullable = true)\n",
      " |-- Churn: string (nullable = true)\n",
      "\n"
     ]
    }
   ],
   "source": [
    "df.printSchema()"
   ]
  },
  {
   "cell_type": "code",
   "execution_count": 5,
   "id": "795599cb-82bb-4d46-8db6-930fb60d71f0",
   "metadata": {},
   "outputs": [
    {
     "name": "stdout",
     "output_type": "stream",
     "text": [
      "Null values:\n",
      "customerID 0\n",
      "gender 0\n",
      "SeniorCitizen 0\n",
      "Partner 0\n",
      "Dependents 0\n",
      "tenure 0\n",
      "PhoneService 0\n",
      "MultipleLines 0\n",
      "InternetService 0\n",
      "OnlineSecurity 0\n",
      "OnlineBackup 0\n",
      "DeviceProtection 0\n",
      "TechSupport 0\n",
      "StreamingTV 0\n",
      "StreamingMovies 0\n",
      "Contract 0\n",
      "PaperlessBilling 0\n",
      "PaymentMethod 0\n",
      "MonthlyCharges 0\n",
      "TotalCharges 11\n",
      "Churn 0\n"
     ]
    }
   ],
   "source": [
    "print(\"Null values:\")\n",
    "for c in df.columns:\n",
    "    print(f\"{c} {df.filter(df[c].isNull() | isnan(c)).count()}\")\n"
   ]
  },
  {
   "cell_type": "code",
   "execution_count": 6,
   "id": "e9bf6307-b57b-446e-b72c-a593a1f2c9a3",
   "metadata": {},
   "outputs": [],
   "source": [
    "df = df.filter(~(df.TotalCharges.isNull() | isnan(df.TotalCharges)))"
   ]
  },
  {
   "cell_type": "code",
   "execution_count": 7,
   "id": "9514f109-3040-44bd-b1bc-299500ca35ca",
   "metadata": {},
   "outputs": [
    {
     "name": "stdout",
     "output_type": "stream",
     "text": [
      "+------+\n",
      "|gender|\n",
      "+------+\n",
      "|Female|\n",
      "|  Male|\n",
      "+------+\n",
      "\n",
      "+-------------+\n",
      "|SeniorCitizen|\n",
      "+-------------+\n",
      "|            0|\n",
      "|            1|\n",
      "+-------------+\n",
      "\n",
      "+-------+\n",
      "|Partner|\n",
      "+-------+\n",
      "|     No|\n",
      "|    Yes|\n",
      "+-------+\n",
      "\n",
      "+----------+\n",
      "|Dependents|\n",
      "+----------+\n",
      "|        No|\n",
      "|       Yes|\n",
      "+----------+\n",
      "\n",
      "+------------+\n",
      "|PhoneService|\n",
      "+------------+\n",
      "|          No|\n",
      "|         Yes|\n",
      "+------------+\n",
      "\n",
      "+----------------+\n",
      "|   MultipleLines|\n",
      "+----------------+\n",
      "|No phone service|\n",
      "|              No|\n",
      "|             Yes|\n",
      "+----------------+\n",
      "\n",
      "+---------------+\n",
      "|InternetService|\n",
      "+---------------+\n",
      "|    Fiber optic|\n",
      "|             No|\n",
      "|            DSL|\n",
      "+---------------+\n",
      "\n",
      "+-------------------+\n",
      "|     OnlineSecurity|\n",
      "+-------------------+\n",
      "|                 No|\n",
      "|                Yes|\n",
      "|No internet service|\n",
      "+-------------------+\n",
      "\n",
      "+-------------------+\n",
      "|       OnlineBackup|\n",
      "+-------------------+\n",
      "|                 No|\n",
      "|                Yes|\n",
      "|No internet service|\n",
      "+-------------------+\n",
      "\n",
      "+-------------------+\n",
      "|   DeviceProtection|\n",
      "+-------------------+\n",
      "|                 No|\n",
      "|                Yes|\n",
      "|No internet service|\n",
      "+-------------------+\n",
      "\n",
      "+-------------------+\n",
      "|        TechSupport|\n",
      "+-------------------+\n",
      "|                 No|\n",
      "|                Yes|\n",
      "|No internet service|\n",
      "+-------------------+\n",
      "\n",
      "+-------------------+\n",
      "|        StreamingTV|\n",
      "+-------------------+\n",
      "|                 No|\n",
      "|                Yes|\n",
      "|No internet service|\n",
      "+-------------------+\n",
      "\n",
      "+-------------------+\n",
      "|    StreamingMovies|\n",
      "+-------------------+\n",
      "|                 No|\n",
      "|                Yes|\n",
      "|No internet service|\n",
      "+-------------------+\n",
      "\n",
      "+--------------+\n",
      "|      Contract|\n",
      "+--------------+\n",
      "|Month-to-month|\n",
      "|      One year|\n",
      "|      Two year|\n",
      "+--------------+\n",
      "\n",
      "+----------------+\n",
      "|PaperlessBilling|\n",
      "+----------------+\n",
      "|              No|\n",
      "|             Yes|\n",
      "+----------------+\n",
      "\n",
      "+--------------------+\n",
      "|       PaymentMethod|\n",
      "+--------------------+\n",
      "|Credit card (auto...|\n",
      "|        Mailed check|\n",
      "|Bank transfer (au...|\n",
      "|    Electronic check|\n",
      "+--------------------+\n",
      "\n",
      "+-----+\n",
      "|Churn|\n",
      "+-----+\n",
      "|   No|\n",
      "|  Yes|\n",
      "+-----+\n",
      "\n"
     ]
    }
   ],
   "source": [
    "# for seeing unique value\n",
    "for c, t in schema:\n",
    "    if t == StringType() and c != 'customerID':\n",
    "        df.select(c).distinct().show()"
   ]
  },
  {
   "cell_type": "code",
   "execution_count": 8,
   "id": "b765fcf6-5ef6-4c24-ad48-b653bd062fb2",
   "metadata": {},
   "outputs": [
    {
     "name": "stdout",
     "output_type": "stream",
     "text": [
      "Shape of datasets (7032, 21)\n"
     ]
    }
   ],
   "source": [
    "print(f\"Shape of datasets {(df.count(), len(df.columns))}\")"
   ]
  },
  {
   "cell_type": "code",
   "execution_count": 9,
   "id": "ed8a4ee5-88a5-4c69-a24a-29e2c1dd8062",
   "metadata": {},
   "outputs": [
    {
     "name": "stdout",
     "output_type": "stream",
     "text": [
      "+-----+-----+\n",
      "|Churn|count|\n",
      "+-----+-----+\n",
      "|   No| 5163|\n",
      "|  Yes| 1869|\n",
      "+-----+-----+\n",
      "\n"
     ]
    }
   ],
   "source": [
    "df.groupBy('Churn').count().show()"
   ]
  },
  {
   "cell_type": "code",
   "execution_count": 10,
   "id": "26cfcb54-3681-4891-8099-69c6158593ce",
   "metadata": {},
   "outputs": [
    {
     "name": "stdout",
     "output_type": "stream",
     "text": [
      "['tenure', 'MonthlyCharges', 'TotalCharges']\n",
      "['gender', 'SeniorCitizen', 'Partner', 'Dependents', 'PhoneService', 'MultipleLines', 'InternetService', 'OnlineSecurity', 'OnlineBackup', 'DeviceProtection', 'TechSupport', 'StreamingTV', 'StreamingMovies', 'Contract', 'PaperlessBilling', 'PaymentMethod']\n"
     ]
    }
   ],
   "source": [
    "numericalCols = []\n",
    "categoricalCols = []\n",
    "for c, t in schema:\n",
    "    if t == StringType():\n",
    "        categoricalCols.append(c)\n",
    "        continue\n",
    "    numericalCols.append(c)\n",
    "\n",
    "categoricalCols.remove('customerID')\n",
    "categoricalCols.remove('Churn')\n",
    "\n",
    "print(numericalCols)\n",
    "print(categoricalCols)"
   ]
  },
  {
   "cell_type": "code",
   "execution_count": 11,
   "id": "acb7f639-ae07-4fd0-aa16-d37022df2e0f",
   "metadata": {},
   "outputs": [],
   "source": [
    "label_indexer = StringIndexer(inputCol=\"Churn\", outputCol=\"label\")\n",
    "# df = label_indexer.fit(df).transform(df)"
   ]
  },
  {
   "cell_type": "code",
   "execution_count": 12,
   "id": "b12f4ecc-aeda-4274-b104-9e8a4aa8dd1f",
   "metadata": {},
   "outputs": [],
   "source": [
    "numAssembler = VectorAssembler(inputCols=numericalCols, outputCol=\"numFeat\")\n",
    "# assembled_df = numAssembler.transform(df)\n",
    "\n",
    "scaler = StandardScaler(inputCol=\"numFeat\", outputCol=\"scnumFeat\")\n",
    "# scalerModel = scaler.fit(assembled_df)\n",
    "# scaledData = scalerModel.transform(assembled_df)\n",
    "\n",
    "# scaledData.select(\"customerID\", \"numFeat\", \"scnumFeat\").show(3, truncate=False)"
   ]
  },
  {
   "cell_type": "code",
   "execution_count": 13,
   "id": "12b29351-2c9c-41b4-b64c-80538a3cf3a9",
   "metadata": {},
   "outputs": [],
   "source": [
    "indexers = [StringIndexer(inputCol=col, outputCol=col + \"_index\") for col in categoricalCols]\n",
    "encoders = [OneHotEncoder(inputCol=col + \"_index\", outputCol=col + \"_vec\") for col in categoricalCols]\n",
    "\n",
    "# for indexer, encoder in zip(indexers, encoders):\n",
    "#     scaledData = indexer.fit(scaledData).transform(scaledData)\n",
    "#     scaledData = encoder.fit(scaledData).transform(scaledData)\n",
    "\n",
    "# scaledData.select([\"customerID\"] + [col + \"_vec\" for col in categoricalCols]).show(3, truncate=False)"
   ]
  },
  {
   "cell_type": "code",
   "execution_count": 14,
   "id": "e361b379-9d4a-4e20-99e1-95576d8d5a5f",
   "metadata": {},
   "outputs": [],
   "source": [
    "final_features = [\"scnumFeat\"] + [col + \"_vec\" for col in categoricalCols]\n",
    "assembler_final = VectorAssembler(inputCols=final_features, outputCol=\"final_features\")\n",
    "# final_df = assembler_final.transform(scaledData)\n",
    "\n",
    "# final_df.select(\"customerID\", \"final_features\", \"label\").show(3, truncate=False)"
   ]
  },
  {
   "cell_type": "code",
   "execution_count": 15,
   "id": "cc1d2510-b39c-41ee-9fb5-623aec9b9044",
   "metadata": {},
   "outputs": [],
   "source": [
    "lr = LogisticRegression(featuresCol=\"final_features\", labelCol=\"label\")"
   ]
  },
  {
   "cell_type": "code",
   "execution_count": 16,
   "id": "89aecd9f-50ec-45b7-bf34-b7490d3ed102",
   "metadata": {},
   "outputs": [],
   "source": [
    "pipeline = Pipeline(stages= \n",
    "    [label_indexer] + indexers + encoders + [\n",
    "    numAssembler, scaler,\n",
    "    assembler_final,\n",
    "    lr\n",
    "])"
   ]
  },
  {
   "cell_type": "code",
   "execution_count": 17,
   "id": "b66ad11a-5ae9-4c3e-aa1b-40b462e01387",
   "metadata": {},
   "outputs": [],
   "source": [
    "train, test = df.randomSplit([0.8, 0.2], seed=42)"
   ]
  },
  {
   "cell_type": "code",
   "execution_count": 18,
   "id": "f6bcfa8a-7785-450f-a8a7-5bcf338865de",
   "metadata": {},
   "outputs": [],
   "source": [
    "model = pipeline.fit(train)"
   ]
  },
  {
   "cell_type": "code",
   "execution_count": 19,
   "id": "d53919e2-688e-492d-859f-48d74c524281",
   "metadata": {},
   "outputs": [],
   "source": [
    "predictions = model.transform(test)"
   ]
  },
  {
   "cell_type": "code",
   "execution_count": 20,
   "id": "efa98dbf-3914-4dcd-b038-25b440f27aad",
   "metadata": {},
   "outputs": [
    {
     "name": "stdout",
     "output_type": "stream",
     "text": [
      "+-----+----------+--------------------+\n",
      "|Churn|prediction|         probability|\n",
      "+-----+----------+--------------------+\n",
      "|  Yes|       1.0|[0.34707951978117...|\n",
      "|   No|       0.0|[0.94576585173164...|\n",
      "|   No|       0.0|[0.56621492187733...|\n",
      "|   No|       0.0|[0.95308953097470...|\n",
      "|  Yes|       1.0|[0.27346013042051...|\n",
      "|   No|       0.0|[0.80495400505907...|\n",
      "|   No|       0.0|[0.99881424688212...|\n",
      "|   No|       0.0|[0.98741282954411...|\n",
      "|   No|       0.0|[0.97969104456531...|\n",
      "|   No|       0.0|[0.86758251195468...|\n",
      "|   No|       0.0|[0.67452785740181...|\n",
      "|   No|       0.0|[0.52186406854224...|\n",
      "|   No|       0.0|[0.64041143478133...|\n",
      "|   No|       0.0|[0.54274220977215...|\n",
      "|   No|       0.0|[0.91376407295167...|\n",
      "|   No|       1.0|[0.46815109925052...|\n",
      "|  Yes|       1.0|[0.41505049582362...|\n",
      "|   No|       0.0|[0.80513579429792...|\n",
      "|  Yes|       1.0|[0.20421503319520...|\n",
      "|  Yes|       0.0|[0.94962400269657...|\n",
      "+-----+----------+--------------------+\n",
      "only showing top 20 rows\n",
      "\n"
     ]
    }
   ],
   "source": [
    "predictions.select(\"Churn\", \"prediction\", \"probability\").show()"
   ]
  },
  {
   "cell_type": "code",
   "execution_count": 23,
   "id": "ee818e2e-349d-44a5-a235-913af49d4404",
   "metadata": {},
   "outputs": [
    {
     "name": "stdout",
     "output_type": "stream",
     "text": [
      "Area Under ROC: 0.7210\n"
     ]
    }
   ],
   "source": [
    "evaluator = BinaryClassificationEvaluator(labelCol=\"label\", rawPredictionCol=\"prediction\", metricName=\"areaUnderROC\")\n",
    "roc_auc = evaluator.evaluate(predictions)\n",
    "print(f\"Area Under ROC: {roc_auc:.4f}\")"
   ]
  },
  {
   "cell_type": "code",
   "execution_count": 24,
   "id": "92c93620-3331-4b4f-b244-56fedea420ad",
   "metadata": {},
   "outputs": [
    {
     "name": "stdout",
     "output_type": "stream",
     "text": [
      "Accuracy: 0.8040\n"
     ]
    }
   ],
   "source": [
    "accuracy_evaluator = MulticlassClassificationEvaluator(labelCol=\"label\", predictionCol=\"prediction\", metricName=\"accuracy\")\n",
    "accuracy = accuracy_evaluator.evaluate(predictions)\n",
    "print(f\"Accuracy: {accuracy:.4f}\")"
   ]
  },
  {
   "cell_type": "code",
   "execution_count": null,
   "id": "325ad6c6-1531-4c9a-af7d-1af543ac577d",
   "metadata": {},
   "outputs": [],
   "source": []
  }
 ],
 "metadata": {
  "kernelspec": {
   "display_name": "Python 3 (ipykernel)",
   "language": "python",
   "name": "python3"
  },
  "language_info": {
   "codemirror_mode": {
    "name": "ipython",
    "version": 3
   },
   "file_extension": ".py",
   "mimetype": "text/x-python",
   "name": "python",
   "nbconvert_exporter": "python",
   "pygments_lexer": "ipython3",
   "version": "3.11.6"
  }
 },
 "nbformat": 4,
 "nbformat_minor": 5
}
